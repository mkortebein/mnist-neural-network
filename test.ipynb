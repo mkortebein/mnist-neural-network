{
 "cells": [
  {
   "cell_type": "code",
   "execution_count": 1,
   "metadata": {},
   "outputs": [],
   "source": [
    "import mnist_nn as p\n",
    "import torch.nn as nn\n",
    "import torch, numpy\n",
    "from matplotlib import pyplot as plt"
   ]
  },
  {
   "cell_type": "code",
   "execution_count": 2,
   "metadata": {},
   "outputs": [],
   "source": [
    "train_loader = p.get_data_loader()\n",
    "test_loader = p.get_data_loader(training = False)"
   ]
  },
  {
   "cell_type": "code",
   "execution_count": 3,
   "metadata": {},
   "outputs": [],
   "source": [
    "model = p.build_model()\n",
    "criterion = nn.CrossEntropyLoss()"
   ]
  },
  {
   "cell_type": "code",
   "execution_count": 4,
   "metadata": {},
   "outputs": [
    {
     "name": "stdout",
     "output_type": "stream",
     "text": [
      "Train Epoch: 0  Accuracy: 47986/60000(79.98%)  Loss: 0.741\n",
      "Train Epoch: 1  Accuracy: 55019/60000(91.7%)  Loss: 0.286\n",
      "Train Epoch: 2  Accuracy: 56024/60000(93.37%)  Loss: 0.229\n",
      "Train Epoch: 3  Accuracy: 56689/60000(94.48%)  Loss: 0.192\n",
      "Train Epoch: 4  Accuracy: 57117/60000(95.19%)  Loss: 0.166\n"
     ]
    }
   ],
   "source": [
    "p.train_model(model, train_loader, criterion, T = 5)"
   ]
  },
  {
   "cell_type": "code",
   "execution_count": 5,
   "metadata": {},
   "outputs": [
    {
     "name": "stdout",
     "output_type": "stream",
     "text": [
      "Average loss: 0.1522\n",
      "Accuracy: 95.43\n"
     ]
    }
   ],
   "source": [
    "p.evaluate_model(model, test_loader, criterion, show_loss = True)"
   ]
  },
  {
   "cell_type": "code",
   "execution_count": 6,
   "metadata": {},
   "outputs": [
    {
     "data": {
      "text/plain": [
       "9"
      ]
     },
     "execution_count": 6,
     "metadata": {},
     "output_type": "execute_result"
    }
   ],
   "source": [
    "image, label = test_loader.dataset[16]\n",
    "label"
   ]
  },
  {
   "cell_type": "code",
   "execution_count": 7,
   "metadata": {},
   "outputs": [
    {
     "name": "stdout",
     "output_type": "stream",
     "text": [
      "nine: 97.65%\n",
      "four: 1.71%\n",
      "seven: 0.52%\n"
     ]
    }
   ],
   "source": [
    "p.predict_label(model, test_loader, 16)"
   ]
  },
  {
   "cell_type": "code",
   "execution_count": null,
   "metadata": {},
   "outputs": [],
   "source": []
  }
 ],
 "metadata": {
  "kernelspec": {
   "display_name": "Python 3",
   "language": "python",
   "name": "python3"
  },
  "language_info": {
   "codemirror_mode": {
    "name": "ipython",
    "version": 3
   },
   "file_extension": ".py",
   "mimetype": "text/x-python",
   "name": "python",
   "nbconvert_exporter": "python",
   "pygments_lexer": "ipython3",
   "version": "3.8.5"
  }
 },
 "nbformat": 4,
 "nbformat_minor": 4
}
